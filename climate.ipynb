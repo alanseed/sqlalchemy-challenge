{
 "cells": [
  {
   "cell_type": "code",
   "execution_count": null,
   "source": [
    "#%matplotlib inline\r\n",
    "from matplotlib import style\r\n",
    "style.use('fivethirtyeight')\r\n",
    "import matplotlib.pyplot as plt\r\n",
    "import matplotlib.dates as mdates\r\n",
    "from matplotlib.dates import DateFormatter"
   ],
   "outputs": [],
   "metadata": {}
  },
  {
   "cell_type": "code",
   "execution_count": null,
   "source": [
    "import numpy as np\r\n",
    "import pandas as pd\r\n",
    "import datetime as dt\r\n",
    "from datetime import date"
   ],
   "outputs": [],
   "metadata": {}
  },
  {
   "cell_type": "markdown",
   "source": [
    "# Reflect Tables into SQLAlchemy ORM"
   ],
   "metadata": {}
  },
  {
   "cell_type": "code",
   "execution_count": null,
   "source": [
    "# Python SQL toolkit and Object Relational Mapper\r\n",
    "import sqlalchemy\r\n",
    "from sqlalchemy.ext.automap import automap_base\r\n",
    "from sqlalchemy.orm import Session\r\n",
    "from sqlalchemy import create_engine\r\n",
    "from sqlalchemy import func \r\n",
    "from sqlalchemy import inspect "
   ],
   "outputs": [],
   "metadata": {}
  },
  {
   "cell_type": "code",
   "execution_count": null,
   "source": [
    "# create engine and inspector to hawaii.sqlite\r\n",
    "engine = create_engine(\"sqlite:///Resources/hawaii.sqlite\")\r\n",
    "insp = inspect(engine)\r\n",
    "\r\n",
    "# list the tables \r\n",
    "print(insp.get_table_names())"
   ],
   "outputs": [],
   "metadata": {}
  },
  {
   "cell_type": "markdown",
   "source": [
    "List the columns in the measurement and station tables\r\n"
   ],
   "metadata": {}
  },
  {
   "cell_type": "code",
   "execution_count": null,
   "source": [
    "s_cols = insp.get_columns('station')\r\n",
    "print(\"Columns in the station table \")\r\n",
    "for col in s_cols:\r\n",
    "    print(col['name'], col['type'])\r\n",
    "\r\n",
    "print(\" \")\r\n",
    "m_cols = insp.get_columns('measurement')\r\n",
    "print(\"Columns in the measurement table \")\r\n",
    "for col in m_cols:\r\n",
    "    print(col['name'], col['type'])"
   ],
   "outputs": [],
   "metadata": {}
  },
  {
   "cell_type": "code",
   "execution_count": null,
   "source": [
    "# reflect an existing database into a new model\r\n",
    "Base = automap_base()\r\n",
    "Base.prepare(engine, reflect=True)\r\n",
    "\r\n",
    "# Save references to each table\r\n",
    "Measurement = Base.classes.measurement \r\n",
    "Station = Base.classes.station\r\n",
    "\r\n",
    "# Create our session (link) from Python to the DB\r\n",
    "session = Session(engine)"
   ],
   "outputs": [],
   "metadata": {}
  },
  {
   "cell_type": "markdown",
   "source": [
    "# Exploratory Precipitation Analysis"
   ],
   "metadata": {}
  },
  {
   "cell_type": "code",
   "execution_count": null,
   "source": [
    "# Find the most recent date in the data set.\r\n",
    "end_date_str = session.query(Measurement.date).order_by(Measurement.date.desc()).first()"
   ],
   "outputs": [],
   "metadata": {}
  },
  {
   "cell_type": "markdown",
   "source": [
    "The data are daily rainfall totals and some kind of temperature, possibly daily max.  \r\n",
    "I will import data from all the stations, so the date will not be able to be used as an index."
   ],
   "metadata": {}
  },
  {
   "cell_type": "code",
   "execution_count": null,
   "source": [
    "# Design a query to retrieve the last 12 months of precipitation data and plot the results. \r\n",
    "# Starting from the most recent data point in the database. \r\n",
    "end_date = date(*map(int, end_date_str[0].split('-')))\r\n",
    "\r\n",
    "# Calculate the date one year from the last date in data set.\r\n",
    "start_date = end_date - dt.timedelta(days=365)\r\n",
    "print(f\"start date = {start_date}, end date = {end_date}\")\r\n",
    "\r\n",
    "# Perform a query to retrieve the data and precipitation scores\r\n",
    "start_date_str = start_date.strftime(\"%Y-%m-%d\")\r\n",
    "precip_df = pd.DataFrame(session.query(Measurement.date, Measurement.station, Measurement.prcp).filter(Measurement.date > start_date_str).all())\r\n",
    "\r\n",
    "# Save the query results as a Pandas DataFrame and set the index to the date column\r\n",
    "\r\n",
    "# Sort the dataframe by date (and station number)  \r\n",
    "precip_df = precip_df.sort_values(by=['date', 'station'])  \r\n",
    "\r\n",
    "#convert the date string into datetime \r\n",
    "precip_df['date'] = pd.to_datetime(precip_df['date'])\r\n",
    "precip_df.info()"
   ],
   "outputs": [],
   "metadata": {}
  },
  {
   "cell_type": "code",
   "execution_count": null,
   "source": [
    "# Use Pandas Plotting with Matplotlib to plot the data\r\n",
    "# I will plot out the mean from all the stations as a time series \r\n",
    "mean_precip = precip_df[['date','prcp']].groupby(by='date').mean()\r\n",
    "\r\n",
    "fig,ax = plt.subplots(figsize=(15,6))\r\n",
    "ax.bar(mean_precip.index,mean_precip['prcp'],width=1.0)\r\n",
    "ax.set(xlabel=\"Date\",\r\n",
    "       ylabel=\"Precipitation (inches)\",\r\n",
    "       title=\"Daily Mean Precipitation\")\r\n",
    "\r\n",
    "# Major ticks every month.\r\n",
    "fmt_month = mdates.MonthLocator(interval=1)\r\n",
    "ax.xaxis.set_major_locator(fmt_month)\r\n",
    "ax.xaxis.set_major_formatter(mdates.DateFormatter('%Y-%m'))\r\n",
    "fig.autofmt_xdate() \r\n",
    "plt.show()"
   ],
   "outputs": [],
   "metadata": {}
  },
  {
   "cell_type": "code",
   "execution_count": null,
   "source": [
    "# Use Pandas to calcualte the summary statistics for the precipitation data\r\n",
    "cols = ['count', 'mean','std', 'min', '25%', '50%', '75%', 'max']\r\n",
    "station_list = precip_df['station'].unique()\r\n",
    "station_summary_df = pd.DataFrame(columns=cols, index=station_list)\r\n",
    "\r\n",
    "for station in station_list:\r\n",
    "    results = precip_df.loc[precip_df['station'] == station].describe()\r\n",
    "    station_summary_df.loc[station] = results['prcp']\r\n",
    "\r\n",
    "station_summary_df = station_summary_df.sort_values(by='count', ascending=False)\r\n",
    "station_summary_df    "
   ],
   "outputs": [],
   "metadata": {}
  },
  {
   "cell_type": "markdown",
   "source": [
    "# Exploratory Station Analysis"
   ],
   "metadata": {}
  },
  {
   "cell_type": "code",
   "execution_count": null,
   "source": [
    "# Design a query to calculate the total number stations in the dataset\r\n",
    "number_stations = session.query(Station.id).count()\r\n",
    "print(f\"Number of stations = {number_stations}\")"
   ],
   "outputs": [],
   "metadata": {}
  },
  {
   "cell_type": "code",
   "execution_count": null,
   "source": [
    "# Design a query to find the most active stations (i.e. what stations have the most rows?)\r\n",
    "# List the stations and the counts in descending order.\r\n",
    "number_days = session.query(Measurement.station, func.count(Measurement.tobs)).group_by(Measurement.station).order_by(func.count(Measurement.tobs).desc()).all()\r\n",
    "\r\n",
    "print(\"Total number of observations per station \\nStation        Number of days\")\r\n",
    "for day in number_days:\r\n",
    "    print(f\"{day[0]}       {day[1]}\")  "
   ],
   "outputs": [],
   "metadata": {}
  },
  {
   "cell_type": "code",
   "execution_count": null,
   "source": [
    "# Using the most active station id from the previous query, calculate the lowest, highest, and average temperature.\r\n",
    "max_stn = number_days[0][0]\r\n",
    "min_temp = session.query(func.min(Measurement.tobs)).filter(Measurement.station == max_stn).all()\r\n",
    "max_temp = session.query(func.max(Measurement.tobs)).filter(Measurement.station == max_stn).all()\r\n",
    "mean_temp = session.query(func.avg(Measurement.tobs)).filter(Measurement.station == max_stn).all()\r\n",
    "print(f\"Station id {max_stn}: min temp = {min_temp[0][0]:.2f}F, mean temp = {mean_temp[0][0]:.2f}F, max temp = {max_temp[0][0]:.2f}F\")"
   ],
   "outputs": [],
   "metadata": {}
  },
  {
   "cell_type": "code",
   "execution_count": null,
   "source": [
    "# Using the most active station id\r\n",
    "# Query the last 12 months of temperature observation data for this station and plot the results as a histogram\r\n",
    "max_tobs = session.query(Measurement.station, func.count(Measurement.tobs)).group_by(Measurement.station).order_by(func.count(Measurement.tobs).desc()).first()\r\n",
    "print(f\"Station {max_tobs[0]}, number of observations = {max_tobs[1]}\")\r\n",
    "tobs_df = pd.DataFrame(session.query(Measurement.date, Measurement.tobs).filter(Measurement.station == max_tobs[0], Measurement.date > start_date_str).all())\r\n",
    "\r\n",
    "# Sort the dataframe by date, convert into datetime, and set as the index \r\n",
    "tobs_df = tobs_df.sort_values(by=['date'])  \r\n",
    "tobs_df['date'] = pd.to_datetime(tobs_df['date'])\r\n",
    "tobs_df = tobs_df.set_index('date')\r\n",
    "tobs_df"
   ],
   "outputs": [],
   "metadata": {}
  },
  {
   "cell_type": "code",
   "execution_count": null,
   "source": [
    "fig,ax = plt.subplots(figsize=(12,10))\r\n",
    "ax.hist(tobs_df['tobs'],bins=12)\r\n",
    "ax.set(xlabel=\"Temperature (F)\",\r\n",
    "       ylabel=\"Frequency\",\r\n",
    "       title=f\"Daily max. temperature \\n Station {max_tobs[0]}\")\r\n",
    "plt.show()"
   ],
   "outputs": [],
   "metadata": {}
  },
  {
   "cell_type": "markdown",
   "source": [
    "# Close session"
   ],
   "metadata": {}
  },
  {
   "cell_type": "code",
   "execution_count": null,
   "source": [
    "# Close Session\r\n",
    "session.close()"
   ],
   "outputs": [],
   "metadata": {}
  },
  {
   "cell_type": "code",
   "execution_count": null,
   "source": [],
   "outputs": [],
   "metadata": {}
  }
 ],
 "metadata": {
  "anaconda-cloud": {},
  "kernel_info": {
   "name": "python3"
  },
  "kernelspec": {
   "name": "python3",
   "display_name": "Python 3.8.5 64-bit ('PythonData': conda)"
  },
  "language_info": {
   "codemirror_mode": {
    "name": "ipython",
    "version": 3
   },
   "file_extension": ".py",
   "mimetype": "text/x-python",
   "name": "python",
   "nbconvert_exporter": "python",
   "pygments_lexer": "ipython3",
   "version": "3.8.5"
  },
  "nteract": {
   "version": "0.12.3"
  },
  "varInspector": {
   "cols": {
    "lenName": 16,
    "lenType": 16,
    "lenVar": 40
   },
   "kernels_config": {
    "python": {
     "delete_cmd_postfix": "",
     "delete_cmd_prefix": "del ",
     "library": "var_list.py",
     "varRefreshCmd": "print(var_dic_list())"
    },
    "r": {
     "delete_cmd_postfix": ") ",
     "delete_cmd_prefix": "rm(",
     "library": "var_list.r",
     "varRefreshCmd": "cat(var_dic_list()) "
    }
   },
   "types_to_exclude": [
    "module",
    "function",
    "builtin_function_or_method",
    "instance",
    "_Feature"
   ],
   "window_display": false
  },
  "interpreter": {
   "hash": "9bffe33b5fd20bd79db2aeb53e20f32ff9281612073e95f8cc7d91022c1172a1"
  }
 },
 "nbformat": 4,
 "nbformat_minor": 2
}