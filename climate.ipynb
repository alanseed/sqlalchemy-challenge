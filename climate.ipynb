{
 "cells": [
  {
   "cell_type": "code",
   "execution_count": 182,
   "source": [
    "#%matplotlib inline\r\n",
    "from matplotlib import style\r\n",
    "style.use('fivethirtyeight')\r\n",
    "import matplotlib.pyplot as plt\r\n",
    "import matplotlib.dates as mdates\r\n",
    "from matplotlib.dates import DateFormatter"
   ],
   "outputs": [],
   "metadata": {}
  },
  {
   "cell_type": "code",
   "execution_count": 183,
   "source": [
    "import numpy as np\r\n",
    "import pandas as pd\r\n",
    "import datetime as dt\r\n",
    "from datetime import date"
   ],
   "outputs": [],
   "metadata": {}
  },
  {
   "cell_type": "markdown",
   "source": [
    "# Reflect Tables into SQLAlchemy ORM"
   ],
   "metadata": {}
  },
  {
   "cell_type": "code",
   "execution_count": 184,
   "source": [
    "# Python SQL toolkit and Object Relational Mapper\r\n",
    "import sqlalchemy\r\n",
    "from sqlalchemy.ext.automap import automap_base\r\n",
    "from sqlalchemy.orm import Session\r\n",
    "from sqlalchemy import create_engine\r\n",
    "from sqlalchemy import func \r\n",
    "from sqlalchemy import inspect "
   ],
   "outputs": [],
   "metadata": {}
  },
  {
   "cell_type": "code",
   "execution_count": 185,
   "source": [
    "# create engine and inspector to hawaii.sqlite\r\n",
    "engine = create_engine(\"sqlite:///Resources/hawaii.sqlite\")\r\n",
    "insp = inspect(engine)\r\n",
    "\r\n",
    "# list the tables \r\n",
    "print(insp.get_table_names())"
   ],
   "outputs": [
    {
     "output_type": "stream",
     "name": "stdout",
     "text": [
      "['measurement', 'station']\n"
     ]
    }
   ],
   "metadata": {}
  },
  {
   "cell_type": "code",
   "execution_count": 187,
   "source": [
    "m_cols = insp.get_columns('station')\r\n",
    "for col in m_cols:\r\n",
    "    print(col['name'], col['type'])"
   ],
   "outputs": [
    {
     "output_type": "stream",
     "name": "stdout",
     "text": [
      "id INTEGER\n",
      "station TEXT\n",
      "name TEXT\n",
      "latitude FLOAT\n",
      "longitude FLOAT\n",
      "elevation FLOAT\n"
     ]
    }
   ],
   "metadata": {}
  },
  {
   "cell_type": "code",
   "execution_count": 190,
   "source": [
    "# reflect an existing database into a new model\r\n",
    "Base = automap_base()\r\n",
    "Base.prepare(engine, reflect=True)\r\n",
    "\r\n",
    "# Save references to each table\r\n",
    "Measurement = Base.classes.measurement \r\n",
    "Station = Base.classes.station\r\n",
    "\r\n",
    "# Create our session (link) from Python to the DB\r\n",
    "session = Session(engine)"
   ],
   "outputs": [],
   "metadata": {}
  },
  {
   "cell_type": "markdown",
   "source": [
    "# Exploratory Precipitation Analysis"
   ],
   "metadata": {}
  },
  {
   "cell_type": "code",
   "execution_count": 191,
   "source": [
    "# Find the most recent date in the data set.\r\n",
    "end_date_str = session.query(Measurement.date).order_by(Measurement.date.desc()).first()"
   ],
   "outputs": [],
   "metadata": {}
  },
  {
   "cell_type": "markdown",
   "source": [
    "The data are daily rainfall totals and some kind of temperature, possibly daily max.  \r\n",
    "I will import data from all the stations, so the date will not be able to be used as an index."
   ],
   "metadata": {}
  },
  {
   "cell_type": "code",
   "execution_count": 192,
   "source": [
    "# Design a query to retrieve the last 12 months of precipitation data and plot the results. \r\n",
    "# Starting from the most recent data point in the database. \r\n",
    "end_date = date(*map(int, end_date_str[0].split('-')))\r\n",
    "\r\n",
    "# Calculate the date one year from the last date in data set.\r\n",
    "start_date = end_date - dt.timedelta(days=365)\r\n",
    "print(f\"start date = {start_date}, end date = {end_date}\")\r\n",
    "\r\n",
    "# Perform a query to retrieve the data and precipitation scores\r\n",
    "start_date_str = start_date.strftime(\"%Y-%m-%d\")\r\n",
    "precip_df = pd.DataFrame(session.query(Measurement.date, Measurement.station, Measurement.prcp).filter(Measurement.date > start_date_str).all())\r\n",
    "\r\n",
    "# Save the query results as a Pandas DataFrame and set the index to the date column\r\n",
    "\r\n",
    "# Sort the dataframe by date (and station number)  \r\n",
    "precip_df = precip_df.sort_values(by=['date', 'station'])  \r\n",
    "\r\n",
    "#convert the date string into datetime \r\n",
    "precip_df['date'] = pd.to_datetime(precip_df['date'])\r\n",
    "precip_df.info()"
   ],
   "outputs": [
    {
     "output_type": "stream",
     "name": "stdout",
     "text": [
      "start date = 2016-08-23, end date = 2017-08-23\n",
      "<class 'pandas.core.frame.DataFrame'>\n",
      "Int64Index: 2223 entries, 360 to 1523\n",
      "Data columns (total 3 columns):\n",
      " #   Column   Non-Null Count  Dtype         \n",
      "---  ------   --------------  -----         \n",
      " 0   date     2223 non-null   datetime64[ns]\n",
      " 1   station  2223 non-null   object        \n",
      " 2   prcp     2015 non-null   float64       \n",
      "dtypes: datetime64[ns](1), float64(1), object(1)\n",
      "memory usage: 69.5+ KB\n"
     ]
    }
   ],
   "metadata": {}
  },
  {
   "cell_type": "code",
   "execution_count": 193,
   "source": [
    "# Use Pandas Plotting with Matplotlib to plot the data\r\n",
    "# I will plot out the mean from all the stations as a time series \r\n",
    "mean_precip = precip_df[['date','prcp']].groupby(by='date').mean()\r\n",
    "\r\n",
    "fig,ax = plt.subplots(figsize=(15,6))\r\n",
    "ax.bar(mean_precip.index,mean_precip['prcp'],width=1.0)\r\n",
    "ax.set(xlabel=\"Date\",\r\n",
    "       ylabel=\"Precipitation (inches)\",\r\n",
    "       title=\"Daily Mean Precipitation\")\r\n",
    "\r\n",
    "# Major ticks every month.\r\n",
    "fmt_month = mdates.MonthLocator(interval=1)\r\n",
    "ax.xaxis.set_major_locator(fmt_month)\r\n",
    "ax.xaxis.set_major_formatter(mdates.DateFormatter('%Y-%m'))\r\n",
    "fig.autofmt_xdate() \r\n",
    "plt.show()"
   ],
   "outputs": [
    {
     "output_type": "display_data",
     "data": {
      "text/plain": [
       "<Figure size 1080x432 with 1 Axes>"
      ],
      "image/png": "[encoded data removed]"
     },
     "metadata": {}
    }
   ],
   "metadata": {}
  },
  {
   "cell_type": "code",
   "execution_count": 194,
   "source": [
    "# Use Pandas to calcualte the summary statistics for the precipitation data\r\n",
    "cols = ['count', 'mean','std', 'min', '25%', '50%', '75%', 'max']\r\n",
    "station_list = precip_df['station'].unique()\r\n",
    "station_summary_df = pd.DataFrame(columns=cols, index=station_list)\r\n",
    "\r\n",
    "for station in station_list:\r\n",
    "    results = precip_df.loc[precip_df['station'] == station].describe()\r\n",
    "    station_summary_df.loc[station] = results['prcp']\r\n",
    "\r\n",
    "station_summary_df = station_summary_df.sort_values(by='count', ascending=False)\r\n",
    "station_summary_df    "
   ],
   "outputs": [
    {
     "output_type": "execute_result",
     "data": {
      "text/plain": [
       "             count      mean       std  min   25%   50%     75%   max\n",
       "USC00519397  358.0  0.044944  0.189059  0.0   0.0   0.0    0.02  2.62\n",
       "USC00519281  351.0  0.194416   0.41105  0.0   0.0  0.06   0.185  2.98\n",
       "USC00513117  342.0  0.141404  0.341744  0.0   0.0  0.03  0.1175   2.9\n",
       "USC00516128  327.0  0.449878   0.71814  0.0  0.01  0.18   0.605   6.7\n",
       "USC00519523  313.0  0.121374  0.509785  0.0   0.0   0.0    0.06  6.25\n",
       "USC00514830  264.0   0.12572  0.316856  0.0   0.0  0.02    0.12  2.39\n",
       "USC00517948   60.0    0.0765  0.317857  0.0   0.0   0.0   0.025   2.4"
      ],
      "text/html": [
       "<div>\n",
       "<style scoped>\n",
       "    .dataframe tbody tr th:only-of-type {\n",
       "        vertical-align: middle;\n",
       "    }\n",
       "\n",
       "    .dataframe tbody tr th {\n",
       "        vertical-align: top;\n",
       "    }\n",
       "\n",
       "    .dataframe thead th {\n",
       "        text-align: right;\n",
       "    }\n",
       "</style>\n",
       "<table border=\"1\" class=\"dataframe\">\n",
       "  <thead>\n",
       "    <tr style=\"text-align: right;\">\n",
       "      <th></th>\n",
       "      <th>count</th>\n",
       "      <th>mean</th>\n",
       "      <th>std</th>\n",
       "      <th>min</th>\n",
       "      <th>25%</th>\n",
       "      <th>50%</th>\n",
       "      <th>75%</th>\n",
       "      <th>max</th>\n",
       "    </tr>\n",
       "  </thead>\n",
       "  <tbody>\n",
       "    <tr>\n",
       "      <th>USC00519397</th>\n",
       "      <td>358.0</td>\n",
       "      <td>0.044944</td>\n",
       "      <td>0.189059</td>\n",
       "      <td>0.0</td>\n",
       "      <td>0.0</td>\n",
       "      <td>0.0</td>\n",
       "      <td>0.02</td>\n",
       "      <td>2.62</td>\n",
       "    </tr>\n",
       "    <tr>\n",
       "      <th>USC00519281</th>\n",
       "      <td>351.0</td>\n",
       "      <td>0.194416</td>\n",
       "      <td>0.41105</td>\n",
       "      <td>0.0</td>\n",
       "      <td>0.0</td>\n",
       "      <td>0.06</td>\n",
       "      <td>0.185</td>\n",
       "      <td>2.98</td>\n",
       "    </tr>\n",
       "    <tr>\n",
       "      <th>USC00513117</th>\n",
       "      <td>342.0</td>\n",
       "      <td>0.141404</td>\n",
       "      <td>0.341744</td>\n",
       "      <td>0.0</td>\n",
       "      <td>0.0</td>\n",
       "      <td>0.03</td>\n",
       "      <td>0.1175</td>\n",
       "      <td>2.9</td>\n",
       "    </tr>\n",
       "    <tr>\n",
       "      <th>USC00516128</th>\n",
       "      <td>327.0</td>\n",
       "      <td>0.449878</td>\n",
       "      <td>0.71814</td>\n",
       "      <td>0.0</td>\n",
       "      <td>0.01</td>\n",
       "      <td>0.18</td>\n",
       "      <td>0.605</td>\n",
       "      <td>6.7</td>\n",
       "    </tr>\n",
       "    <tr>\n",
       "      <th>USC00519523</th>\n",
       "      <td>313.0</td>\n",
       "      <td>0.121374</td>\n",
       "      <td>0.509785</td>\n",
       "      <td>0.0</td>\n",
       "      <td>0.0</td>\n",
       "      <td>0.0</td>\n",
       "      <td>0.06</td>\n",
       "      <td>6.25</td>\n",
       "    </tr>\n",
       "    <tr>\n",
       "      <th>USC00514830</th>\n",
       "      <td>264.0</td>\n",
       "      <td>0.12572</td>\n",
       "      <td>0.316856</td>\n",
       "      <td>0.0</td>\n",
       "      <td>0.0</td>\n",
       "      <td>0.02</td>\n",
       "      <td>0.12</td>\n",
       "      <td>2.39</td>\n",
       "    </tr>\n",
       "    <tr>\n",
       "      <th>USC00517948</th>\n",
       "      <td>60.0</td>\n",
       "      <td>0.0765</td>\n",
       "      <td>0.317857</td>\n",
       "      <td>0.0</td>\n",
       "      <td>0.0</td>\n",
       "      <td>0.0</td>\n",
       "      <td>0.025</td>\n",
       "      <td>2.4</td>\n",
       "    </tr>\n",
       "  </tbody>\n",
       "</table>\n",
       "</div>"
      ]
     },
     "metadata": {},
     "execution_count": 194
    }
   ],
   "metadata": {}
  },
  {
   "cell_type": "markdown",
   "source": [
    "# Exploratory Station Analysis"
   ],
   "metadata": {}
  },
  {
   "cell_type": "code",
   "execution_count": 198,
   "source": [
    "# Design a query to calculate the total number stations in the dataset\r\n",
    "number_stations = session.query(Station.id).count()\r\n",
    "number_stations"
   ],
   "outputs": [
    {
     "output_type": "execute_result",
     "data": {
      "text/plain": [
       "9"
      ]
     },
     "metadata": {},
     "execution_count": 198
    }
   ],
   "metadata": {}
  },
  {
   "cell_type": "code",
   "execution_count": 206,
   "source": [
    "# Design a query to find the most active stations (i.e. what stations have the most rows?)\r\n",
    "# List the stations and the counts in descending order.\r\n",
    "number_days = session.query(Measurement.station, func.count(Measurement.prcp)).group_by(Measurement.station).order_by(func.count(Measurement.prcp).desc()).all()\r\n",
    "number_days\r\n"
   ],
   "outputs": [
    {
     "output_type": "execute_result",
     "data": {
      "text/plain": [
       "[('USC00518838', 342),\n",
       " ('USC00517948', 683),\n",
       " ('USC00511918', 1932),\n",
       " ('USC00514830', 1937),\n",
       " ('USC00516128', 2484),\n",
       " ('USC00519523', 2572),\n",
       " ('USC00519397', 2685),\n",
       " ('USC00513117', 2696),\n",
       " ('USC00519281', 2772)]"
      ]
     },
     "metadata": {},
     "execution_count": 206
    }
   ],
   "metadata": {}
  },
  {
   "cell_type": "code",
   "execution_count": 122,
   "source": [
    "# Using the most active station id from the previous query, calculate the lowest, highest, and average temperature.\r\n"
   ],
   "outputs": [],
   "metadata": {}
  },
  {
   "cell_type": "code",
   "execution_count": 123,
   "source": [
    "# Using the most active station id\r\n",
    "# Query the last 12 months of temperature observation data for this station and plot the results as a histogram\r\n"
   ],
   "outputs": [],
   "metadata": {}
  },
  {
   "cell_type": "markdown",
   "source": [
    "# Close session"
   ],
   "metadata": {}
  },
  {
   "cell_type": "code",
   "execution_count": 124,
   "source": [
    "# Close Session\r\n",
    "session.close()"
   ],
   "outputs": [],
   "metadata": {}
  },
  {
   "cell_type": "code",
   "execution_count": null,
   "source": [],
   "outputs": [],
   "metadata": {}
  }
 ],
 "metadata": {
  "anaconda-cloud": {},
  "kernel_info": {
   "name": "python3"
  },
  "kernelspec": {
   "display_name": "Python 3",
   "language": "python",
   "name": "python3"
  },
  "language_info": {
   "codemirror_mode": {
    "name": "ipython",
    "version": 3
   },
   "file_extension": ".py",
   "mimetype": "text/x-python",
   "name": "python",
   "nbconvert_exporter": "python",
   "pygments_lexer": "ipython3",
   "version": "3.8.3"
  },
  "nteract": {
   "version": "0.12.3"
  },
  "varInspector": {
   "cols": {
    "lenName": 16,
    "lenType": 16,
    "lenVar": 40
   },
   "kernels_config": {
    "python": {
     "delete_cmd_postfix": "",
     "delete_cmd_prefix": "del ",
     "library": "var_list.py",
     "varRefreshCmd": "print(var_dic_list())"
    },
    "r": {
     "delete_cmd_postfix": ") ",
     "delete_cmd_prefix": "rm(",
     "library": "var_list.r",
     "varRefreshCmd": "cat(var_dic_list()) "
    }
   },
   "types_to_exclude": [
    "module",
    "function",
    "builtin_function_or_method",
    "instance",
    "_Feature"
   ],
   "window_display": false
  }
 },
 "nbformat": 4,
 "nbformat_minor": 2
}